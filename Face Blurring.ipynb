{
 "cells": [
  {
   "cell_type": "markdown",
   "metadata": {},
   "source": [
    "# Importing libraries"
   ]
  },
  {
   "cell_type": "code",
   "execution_count": null,
   "metadata": {},
   "outputs": [],
   "source": [
    "import numpy as np\n",
    "import matplotlib.pyplot as plt\n",
    "import cv2"
   ]
  },
  {
   "cell_type": "markdown",
   "metadata": {},
   "source": [
    "# A function called showimage  for showing the images"
   ]
  },
  {
   "cell_type": "code",
   "execution_count": null,
   "metadata": {},
   "outputs": [],
   "source": [
    "def showimage(img):\n",
    "\tplt.imshow(img, cmap=\"gray\")\n",
    "\tplt.axis('off')\n",
    "\tplt.style.use('seaborn')\n",
    "\tplt.show()"
   ]
  },
  {
   "cell_type": "markdown",
   "metadata": {},
   "source": [
    "# Reading an image using OpenCV --> OpenCV reads images by default in BGR format"
   ]
  },
  {
   "cell_type": "code",
   "execution_count": null,
   "metadata": {},
   "outputs": [],
   "source": [
    "image = cv2.imread(\"img.jpg\")\n",
    "\n",
    "# Converting BGR image into a RGB image\n",
    "image = cv2.cvtColor(image, cv2.COLOR_BGR2GRAY)\n",
    "\n",
    "# show the original image\n",
    "showimage(image)"
   ]
  },
  {
   "cell_type": "markdown",
   "metadata": {},
   "source": [
    "# Haar cascades are machine learning object detection algorithms."
   ]
  },
  {
   "cell_type": "code",
   "execution_count": null,
   "metadata": {},
   "outputs": [],
   "source": [
    "detect_face = cv2.CascadeClassifier(cv2.data.haarcascades +'haarcascade_frontalface_alt.xml')\n",
    "result = detect_face.detectMultiScale(image, 1.2, 1) # return number\n",
    "# print(result)  # saved in x y w h "
   ]
  },
  {
   "cell_type": "markdown",
   "metadata": {},
   "source": [
    "# Draw rectangle around the faces which is in ( saved in x y w h ) region of interest (ROI)"
   ]
  },
  {
   "cell_type": "code",
   "execution_count": null,
   "metadata": {},
   "outputs": [],
   "source": [
    "for (x, y, w, h) in result:\n",
    "\tcv2.rectangle(image, (x, y), (x + w, y + h), (0, 255, 0), 2) # bulid rectangle \n",
    "\troi = image[y:y+h, x:x+w]\n",
    "\t# applying a gaussian blur over this new rectangle area\n",
    "\troi = cv2.GaussianBlur(roi, (23, 23), 30)\n",
    "\t# put the  blurred image on original image to get final image\n",
    "\timage[y:y+roi.shape[0], x:x+roi.shape[1]] = roi"
   ]
  },
  {
   "cell_type": "markdown",
   "metadata": {},
   "source": [
    "# Get the output"
   ]
  },
  {
   "cell_type": "code",
   "execution_count": null,
   "metadata": {},
   "outputs": [],
   "source": [
    "showimage(image)"
   ]
  }
 ],
 "metadata": {
  "interpreter": {
   "hash": "50a78b6f9fe1252a48e04ab8de7ddb7f22387c68e3fd76189935c84f814cc18a"
  },
  "kernelspec": {
   "display_name": "Python 3.9.5 64-bit ('3.9.5')",
   "language": "python",
   "name": "python3"
  },
  "language_info": {
   "codemirror_mode": {
    "name": "ipython",
    "version": 3
   },
   "file_extension": ".py",
   "mimetype": "text/x-python",
   "name": "python",
   "nbconvert_exporter": "python",
   "pygments_lexer": "ipython3",
   "version": "3.9.5"
  },
  "orig_nbformat": 4
 },
 "nbformat": 4,
 "nbformat_minor": 2
}
